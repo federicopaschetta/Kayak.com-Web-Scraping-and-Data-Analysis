{
 "cells": [
  {
   "cell_type": "markdown",
   "metadata": {},
   "source": [
    "## Webscraping from Kayak.com"
   ]
  },
  {
   "cell_type": "markdown",
   "metadata": {},
   "source": [
    "### Importing libraries and initializing Firefox driver"
   ]
  },
  {
   "cell_type": "code",
   "execution_count": 17,
   "metadata": {},
   "outputs": [],
   "source": [
    "import pandas as pd\n",
    "from selenium import webdriver\n",
    "from selenium.webdriver.common.by import By\n",
    "driver = webdriver.Firefox()\n",
    "import time"
   ]
  },
  {
   "cell_type": "markdown",
   "metadata": {},
   "source": [
    "### Initializing data structures for airports and dates"
   ]
  },
  {
   "cell_type": "code",
   "execution_count": 18,
   "metadata": {},
   "outputs": [],
   "source": [
    "airports_dict = {} # this dictionary will have IATA codes as key and city as name\n",
    "dates_list = [] # this list will have dates to be looked for, for each flight line"
   ]
  },
  {
   "cell_type": "markdown",
   "metadata": {},
   "source": [
    "### Getting IATA codes and city for each airport from airports.txt"
   ]
  },
  {
   "cell_type": "code",
   "execution_count": 19,
   "metadata": {},
   "outputs": [],
   "source": [
    "def get_airports():\n",
    "    with open(\"airports.txt\") as airports:\n",
    "        for line in airports:\n",
    "            data = line.split(':')\n",
    "            airports_dict[data[0]] = data[1].strip()\n",
    "    airports_list = list(airports_dict.keys())\n",
    "    return airports_list"
   ]
  },
  {
   "cell_type": "markdown",
   "metadata": {},
   "source": [
    "### Getting dates list to be looked for from dates.txt"
   ]
  },
  {
   "cell_type": "code",
   "execution_count": 20,
   "metadata": {},
   "outputs": [],
   "source": [
    "def get_dates():\n",
    "    dates_list = []\n",
    "    with open(\"dates.txt\") as dates:\n",
    "        for line in dates:\n",
    "            dates_list.append(line.strip())\n",
    "        return dates_list"
   ]
  },
  {
   "cell_type": "markdown",
   "metadata": {},
   "source": [
    "### Initializing scraping variables"
   ]
  },
  {
   "cell_type": "code",
   "execution_count": 21,
   "metadata": {},
   "outputs": [],
   "source": [
    "base = 'https://www.kayak.com' # Base URL to be scraped\n",
    "fin = '?sort=bestflight_a' # Final part of URL to be scraped\n",
    "df_list = [] # List of dataframes, one per each webpage scraped"
   ]
  },
  {
   "cell_type": "markdown",
   "metadata": {},
   "source": [
    "### Overcoming cookies request"
   ]
  },
  {
   "cell_type": "code",
   "execution_count": 22,
   "metadata": {},
   "outputs": [],
   "source": [
    "def click_cookies():\n",
    "    \"\"\"\n",
    "    Pushes the first option in cookies consent request\n",
    "    :return: None.\n",
    "    \"\"\"\n",
    "    cookie_btn = driver.find_elements(By.XPATH, \"//p[contains(@class, 'fC_s-statement')]\")\n",
    "    if len(cookie_btn) > 0:\n",
    "        driver.find_element(By.XPATH, \"//button[contains(@class, 'RxNS')]\").click()\n",
    "        driver.implicitly_wait(3)"
   ]
  },
  {
   "cell_type": "markdown",
   "metadata": {},
   "source": [
    "### Definition of web scraping functions"
   ]
  },
  {
   "cell_type": "code",
   "execution_count": 23,
   "metadata": {},
   "outputs": [],
   "source": [
    "def push_more_results():\n",
    "    \"\"\"\n",
    "    Pushes the \"Show more results\" button if it exists.\n",
    "    :return: None.\n",
    "    \"\"\"\n",
    "    show_more_btn = driver.find_elements(By.XPATH, \"//div[contains(@class, 'show-more-button')]\")\n",
    "    if len(show_more_btn) > 0:\n",
    "        show_more_btn[0].click()\n",
    "        driver.implicitly_wait(3)"
   ]
  },
  {
   "cell_type": "code",
   "execution_count": 24,
   "metadata": {},
   "outputs": [],
   "source": [
    "def get_prices_results(carriers, dep_hour, arr_hour, duration, price):\n",
    "    \"\"\"\n",
    "    Given the web page the driver is pointing to, collects all the information for each \n",
    "    flight in the page and returns it in a list of lists.\n",
    "    :param carriers: list of carriers\n",
    "    :param dep_hour: list of departure hours\n",
    "    :param arr_hour: list of arrival hours\n",
    "    :param duration: list of durations\n",
    "    :param price: list of prices\n",
    "    :return: updated lists containing all the information for each flight in the page.\n",
    "    \"\"\"\n",
    "    hours_carriers = driver.find_elements(By.XPATH, \"//div[@class='VY2U']\") # Finds flight hours and carrier for each flight card in the webpage\n",
    "    for elem in hours_carriers: # For each web element in the list gets their children, containing information, and adds it to their corresponding lists\n",
    "        children = elem.find_elements(By.XPATH, \".//*\") \n",
    "        carriers.append(children[len(children)-1].text)\n",
    "        hours = children[0].text.split('–')\n",
    "        dep_hour.append(hours[0])\n",
    "        arr_hour.append(hours[1])\n",
    "        \n",
    "    duration_elem = driver.find_elements(By.XPATH, \"//div[@class='xdW8']\") # Repeats same thing than before but with flight duration\n",
    "    for elem in duration_elem:\n",
    "        dur = elem.find_elements(By.XPATH, \".//*\")\n",
    "        duration.append(dur[0].text)        \n",
    "        \n",
    "    price_elem = driver.find_elements(By.XPATH, \"//div[@class='f8F1-price-text']\") # Repeats same thing than before but with flight price\n",
    "    for elem in price_elem:\n",
    "        price.append(elem.text)\n",
    "    return carriers, dep_hour, arr_hour, duration, price # Returns updated lists with new information"
   ]
  },
  {
   "cell_type": "code",
   "execution_count": 25,
   "metadata": {},
   "outputs": [],
   "source": [
    "def load_data(carriers, dep_hour, arr_hour, duration, price):\n",
    "    \"\"\"\n",
    "    With the driver pointing to the webpage with all flight availabilities, pushes 5 times \"Show more results\" button and,\n",
    "    invoking get_prices_results function, returns updated lists with flights informations.\n",
    "    :param carriers: list of carriers\n",
    "    :param dep_hour: list of departure hours\n",
    "    :param arr_hour: list of arrival hours\n",
    "    :param duration: list of durations\n",
    "    :param price: list of prices\n",
    "    :return: updated lists containing all the information for each flight in the page.\n",
    "    \"\"\"\n",
    "    for i in range(5):\n",
    "        push_more_results()\n",
    "    return get_prices_results(carriers, dep_hour, arr_hour, duration, price)"
   ]
  },
  {
   "cell_type": "code",
   "execution_count": 26,
   "metadata": {},
   "outputs": [],
   "source": [
    "def format_col(data):\n",
    "    \"\"\"\n",
    "    Given a time string in a 12-hour format, returns it in a 24-hour format \n",
    "    :param data: The time string\n",
    "    :return: The 24-hour formatted time string\n",
    "    \"\"\"\n",
    "    split = data.split()\n",
    "    hours_min, period = data.split()\n",
    "    hours, min = hours_min.split(':')\n",
    "    if period.lower() == 'pm' and int(hours) != 12:\n",
    "        hours = str(int(hours) + 12)\n",
    "    \n",
    "    if period.lower() == 'am' and int(hours) == 12:\n",
    "        hours = '00'\n",
    "    \n",
    "    return f\"{hours}:{min}\"\n",
    "    "
   ]
  },
  {
   "cell_type": "code",
   "execution_count": 27,
   "metadata": {},
   "outputs": [],
   "source": [
    "def handle_df(df):\n",
    "    \"\"\"\n",
    "    Given the dataframe scraped from the webpage, adds DayAfter column and modifies ArrTime and DepTime ones and returns it.\n",
    "    :param df: the web scraped dataframe\n",
    "    :return: the dataframe updated with modified columns\n",
    "    \"\"\"\n",
    "    # Adds DayAfter column, True if the arrival date is the day after the departure, false otherwise\n",
    "    # this is done looking at the '\\n' character, representing the eventual day after arrival date\n",
    "    df['DayAfter'] = df['ArrTime'].str.contains('\\n') \n",
    "    \n",
    "    # Removes the eventual '\\n+1' character at the end of the ArrTime data\n",
    "    df['ArrTime'] = df['ArrTime'].str.replace('\\n+1', '')\n",
    "    \n",
    "    # Formats DepTime and ArrTime into 24-hours format\n",
    "    df['DepTime'] = df['DepTime'].apply(format_col)\n",
    "    df['ArrTime'] = df['ArrTime'].apply(format_col)\n",
    "    return df"
   ]
  },
  {
   "cell_type": "code",
   "execution_count": 28,
   "metadata": {},
   "outputs": [],
   "source": [
    "def get_webpage(dep_airport, arr_airport, dep_date):\n",
    "    \"\"\"\n",
    "    Gets the webpage to scrape, invokes function to load data, handle dataframes and to append each df to the corresponding list\n",
    "    :param dep_airport: Departure airport string\n",
    "    :param arr_airport: Arrival airport string\n",
    "    :param dep_date: Departure date string\n",
    "    :return: None.\n",
    "    \"\"\"\n",
    "    \n",
    "    # Gets the correct url by joining all informations needed and waits to overcome cookies request and to stabilize the webpage\n",
    "    url = f'{base}/flights/{dep_airport}-{arr_airport}/{dep_date}{fin}'\n",
    "    driver.get(url)\n",
    "    time.sleep(5)\n",
    "    click_cookies()\n",
    "    print(url)\n",
    "    \n",
    "    # Initializes data structures to be filled with data\n",
    "    carriers = [] # list of flight carriers\n",
    "    dep_hour = [] # list of flight departure hours\n",
    "    arr_hour = [] # list of flight arrival hours\n",
    "    price = [] # list of flight prices\n",
    "    duration = [] # list of flight durations\n",
    "    \n",
    "    # Loads data from the webpage and updates data structures given\n",
    "    carriers, dep_hour, arr_hour, duration, price = load_data(carriers, dep_hour, arr_hour, duration, price)\n",
    "    \n",
    "    # Creates a DataFrame with the information in the 5 lists defined and filled before and fills Day, DepAirport and ArrAirport\n",
    "    # with information common to each row\n",
    "    data = {'Carrier': carriers, 'DepTime': dep_hour, 'ArrTime': arr_hour, 'Price': price, 'Duration': duration}\n",
    "    df = pd.DataFrame(data)\n",
    "    df['Day'] = dep_date\n",
    "    df['DepAirport'] = airports_dict[dep_airport]\n",
    "    df['ArrAirport'] = airports_dict[arr_airport]\n",
    "    \n",
    "    # Handles the data frame and appends it to the dataframe list\n",
    "    df = handle_df(df)\n",
    "    df_list.append(df)\n"
   ]
  },
  {
   "cell_type": "markdown",
   "metadata": {},
   "source": [
    "### Invoking static resources functions"
   ]
  },
  {
   "cell_type": "code",
   "execution_count": 29,
   "metadata": {},
   "outputs": [],
   "source": [
    "# Fills airports_list with airports and dates_list with dates invoking functions defined above\n",
    "airports_list = get_airports()\n",
    "dates_list = get_dates()"
   ]
  },
  {
   "cell_type": "markdown",
   "metadata": {},
   "source": [
    "### Defining of main loop function"
   ]
  },
  {
   "cell_type": "code",
   "execution_count": 30,
   "metadata": {},
   "outputs": [],
   "source": [
    "def main_loop():\n",
    "    \"\"\"\n",
    "    Handles the main loop function, with three nested loops. First for loops on the list of airports and \n",
    "    gets the departure airport, median one loops again on the same list and gets the arrival airport, Last one loops \n",
    "    on the dates list and gets the departure date. For each combination of these three params, invokes function handling \n",
    "    the whole retrieving algorithm.\n",
    "    :return: None.\n",
    "    \"\"\"    \n",
    "    # Due to Kayak.com anti-bot policy, after a certain number of consequent calls, CAPTCHA to be solved will appear instead\n",
    "    # of the webpage. Therefore, we need to split the process in many steps (one run for each departure airport, for half of the arrival airports, \n",
    "    # for all dates given) in order to avoid this problem.\n",
    "    for dep in airports_list:\n",
    "    # dep = airports_list[0]\n",
    "        for id2, arr in enumerate(airports_list):\n",
    "            for id3, date in enumerate(dates_list):\n",
    "                if dep == arr:\n",
    "                    continue\n",
    "                else:\n",
    "                    print(dep, arr, date)\n",
    "                    get_webpage(dep, arr, date)        \n",
    "                    \n",
    "                "
   ]
  },
  {
   "cell_type": "markdown",
   "metadata": {},
   "source": [
    "### Executing main loop function"
   ]
  },
  {
   "cell_type": "code",
   "execution_count": null,
   "metadata": {},
   "outputs": [],
   "source": [
    "main_loop()"
   ]
  },
  {
   "cell_type": "markdown",
   "metadata": {},
   "source": [
    "### Creating final DataFrame"
   ]
  },
  {
   "cell_type": "code",
   "execution_count": null,
   "metadata": {},
   "outputs": [],
   "source": [
    "# Final DataFrame is created joining all dataframes in df_list together\n",
    "joined_df = pd.concat(df_list)"
   ]
  },
  {
   "cell_type": "code",
   "execution_count": null,
   "metadata": {},
   "outputs": [
    {
     "data": {
      "text/html": [
       "<div>\n",
       "<style scoped>\n",
       "    .dataframe tbody tr th:only-of-type {\n",
       "        vertical-align: middle;\n",
       "    }\n",
       "\n",
       "    .dataframe tbody tr th {\n",
       "        vertical-align: top;\n",
       "    }\n",
       "\n",
       "    .dataframe thead th {\n",
       "        text-align: right;\n",
       "    }\n",
       "</style>\n",
       "<table border=\"1\" class=\"dataframe\">\n",
       "  <thead>\n",
       "    <tr style=\"text-align: right;\">\n",
       "      <th></th>\n",
       "      <th>Carrier</th>\n",
       "      <th>DepTime</th>\n",
       "      <th>ArrTime</th>\n",
       "      <th>Price</th>\n",
       "      <th>Duration</th>\n",
       "      <th>Day</th>\n",
       "      <th>DepAirport</th>\n",
       "      <th>ArrAirport</th>\n",
       "      <th>DayAfter</th>\n",
       "    </tr>\n",
       "  </thead>\n",
       "  <tbody>\n",
       "    <tr>\n",
       "      <th>0</th>\n",
       "      <td>Lufthansa</td>\n",
       "      <td>5:50</td>\n",
       "      <td>8:50</td>\n",
       "      <td>$69</td>\n",
       "      <td>2h 00m</td>\n",
       "      <td>2024-08-19</td>\n",
       "      <td>Dublin</td>\n",
       "      <td>Frankfurt</td>\n",
       "      <td>False</td>\n",
       "    </tr>\n",
       "    <tr>\n",
       "      <th>1</th>\n",
       "      <td>Lufthansa</td>\n",
       "      <td>5:50</td>\n",
       "      <td>8:50</td>\n",
       "      <td>$61</td>\n",
       "      <td>2h 00m</td>\n",
       "      <td>2024-08-19</td>\n",
       "      <td>Dublin</td>\n",
       "      <td>Frankfurt</td>\n",
       "      <td>False</td>\n",
       "    </tr>\n",
       "    <tr>\n",
       "      <th>2</th>\n",
       "      <td>Aer Lingus</td>\n",
       "      <td>7:00</td>\n",
       "      <td>10:15</td>\n",
       "      <td>$65</td>\n",
       "      <td>2h 15m</td>\n",
       "      <td>2024-08-19</td>\n",
       "      <td>Dublin</td>\n",
       "      <td>Frankfurt</td>\n",
       "      <td>False</td>\n",
       "    </tr>\n",
       "    <tr>\n",
       "      <th>3</th>\n",
       "      <td>Aer Lingus</td>\n",
       "      <td>16:45</td>\n",
       "      <td>19:55</td>\n",
       "      <td>$90</td>\n",
       "      <td>2h 10m</td>\n",
       "      <td>2024-08-19</td>\n",
       "      <td>Dublin</td>\n",
       "      <td>Frankfurt</td>\n",
       "      <td>False</td>\n",
       "    </tr>\n",
       "    <tr>\n",
       "      <th>4</th>\n",
       "      <td>Lufthansa</td>\n",
       "      <td>9:05</td>\n",
       "      <td>12:05</td>\n",
       "      <td>$106</td>\n",
       "      <td>2h 00m</td>\n",
       "      <td>2024-08-19</td>\n",
       "      <td>Dublin</td>\n",
       "      <td>Frankfurt</td>\n",
       "      <td>False</td>\n",
       "    </tr>\n",
       "  </tbody>\n",
       "</table>\n",
       "</div>"
      ],
      "text/plain": [
       "      Carrier DepTime ArrTime Price Duration         Day DepAirport  \\\n",
       "0   Lufthansa    5:50    8:50   $69   2h 00m  2024-08-19     Dublin   \n",
       "1   Lufthansa    5:50    8:50   $61   2h 00m  2024-08-19     Dublin   \n",
       "2  Aer Lingus    7:00   10:15   $65   2h 15m  2024-08-19     Dublin   \n",
       "3  Aer Lingus   16:45   19:55   $90   2h 10m  2024-08-19     Dublin   \n",
       "4   Lufthansa    9:05   12:05  $106   2h 00m  2024-08-19     Dublin   \n",
       "\n",
       "  ArrAirport  DayAfter  \n",
       "0  Frankfurt     False  \n",
       "1  Frankfurt     False  \n",
       "2  Frankfurt     False  \n",
       "3  Frankfurt     False  \n",
       "4  Frankfurt     False  "
      ]
     },
     "execution_count": 18,
     "metadata": {},
     "output_type": "execute_result"
    }
   ],
   "source": [
    "# Brief inspection of final DataFrame\n",
    "joined_df.head()"
   ]
  },
  {
   "cell_type": "markdown",
   "metadata": {},
   "source": [
    "### Saving final DataFrame"
   ]
  },
  {
   "cell_type": "code",
   "execution_count": null,
   "metadata": {},
   "outputs": [],
   "source": [
    "joined_df.to_csv('dublin.csv', index=False)"
   ]
  }
 ],
 "metadata": {
  "kernelspec": {
   "display_name": "Python 3",
   "language": "python",
   "name": "python3"
  },
  "language_info": {
   "codemirror_mode": {
    "name": "ipython",
    "version": 3
   },
   "file_extension": ".py",
   "mimetype": "text/x-python",
   "name": "python",
   "nbconvert_exporter": "python",
   "pygments_lexer": "ipython3",
   "version": "3.12.0"
  }
 },
 "nbformat": 4,
 "nbformat_minor": 2
}
